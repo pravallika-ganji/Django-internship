{
 "cells": [
  {
   "cell_type": "code",
   "execution_count": 1,
   "metadata": {},
   "outputs": [
    {
     "name": "stdout",
     "output_type": "stream",
     "text": [
      "Enter a value: 65\n",
      "Enter a name: john\n",
      "Entered number is: 65\n",
      "Entered Name is: john\n"
     ]
    }
   ],
   "source": [
    "n = int(input(\"Enter a value: \"))\n",
    "m = input(\"Enter a name: \")\n",
    "print(\"Entered number is: %d\"%n)\n",
    "print(\"Entered Name is: %s\"%m)"
   ]
  },
  {
   "cell_type": "code",
   "execution_count": 2,
   "metadata": {},
   "outputs": [
    {
     "name": "stdout",
     "output_type": "stream",
     "text": [
      "Entered Number is: 65 and Entered Name is: john\n"
     ]
    }
   ],
   "source": [
    "print(\"Entered Number is: %d and Entered Name is: %s\"%(n,m))"
   ]
  },
  {
   "cell_type": "code",
   "execution_count": 3,
   "metadata": {},
   "outputs": [
    {
     "name": "stdout",
     "output_type": "stream",
     "text": [
      "Entered Number is: 65 and Entered Name is: john\n",
      "Entered Number is: 65 and Entered Name is: john\n",
      "Entered Name is: john and Entered Number is: 65\n"
     ]
    }
   ],
   "source": [
    "print(\"Entered Number is: {} and Entered Name is: {}\".format(n,m))\n",
    "print(\"Entered Number is: {0} and Entered Name is: {1}\".format(n,m))\n",
    "print(\"Entered Name is: {1} and Entered Number is: {0}\".format(n,m))"
   ]
  },
  {
   "cell_type": "code",
   "execution_count": 4,
   "metadata": {},
   "outputs": [
    {
     "name": "stdout",
     "output_type": "stream",
     "text": [
      "5\n"
     ]
    }
   ],
   "source": [
    "a = 20\n",
    "print(a>>2)"
   ]
  },
  {
   "cell_type": "code",
   "execution_count": 5,
   "metadata": {},
   "outputs": [
    {
     "name": "stdout",
     "output_type": "stream",
     "text": [
      "72\n"
     ]
    }
   ],
   "source": [
    "n = int(input())\n",
    "if n == 45:\n",
    "    print(\"Entered Value is: {}\".format(n))"
   ]
  },
  {
   "cell_type": "code",
   "execution_count": 6,
   "metadata": {},
   "outputs": [
    {
     "name": "stdout",
     "output_type": "stream",
     "text": [
      "51\n",
      "36\n",
      "Entered value 51 is not equal to 36\n"
     ]
    }
   ],
   "source": [
    "k = int(input())\n",
    "m = int(input())\n",
    "if k == m:\n",
    "    print(\"Entered values {} and {} are Equal\".format(k,m))\n",
    "else:\n",
    "    print(\"Entered value {} is not equal to {}\".format(k,m))"
   ]
  },
  {
   "cell_type": "code",
   "execution_count": 7,
   "metadata": {},
   "outputs": [
    {
     "name": "stdout",
     "output_type": "stream",
     "text": [
      "400\n",
      "Entered Value 400 is greater than 200\n"
     ]
    }
   ],
   "source": [
    "n = int(input())\n",
    "if (n<=200):\n",
    "    if (n==100):\n",
    "        print(\"Entered Value {} is equal to 100\".format(n))\n",
    "    else:\n",
    "        print(\"Entered Value {} is not equal to 100 but it is lower than 200\".format(n))\n",
    "else:\n",
    "    print(\"Entered Value {} is greater than 200\".format(n))"
   ]
  },
  {
   "cell_type": "code",
   "execution_count": 8,
   "metadata": {},
   "outputs": [
    {
     "name": "stdout",
     "output_type": "stream",
     "text": [
      "51\n",
      "Entered Value 51 is Not divisible by 2\n"
     ]
    }
   ],
   "source": [
    "h = int(input())\n",
    "if h%4 == 0:\n",
    "    print(\"Entered Value {} is divisible by 4\".format(h))\n",
    "elif h%2 == 0 & h%4 == 0:\n",
    "    print(\"Entered Value {} is divisible by 2 and 4\".format(h))\n",
    "elif h%2==0:\n",
    "    print(\"Entered Value {} is divisible by 2\".format(h))\n",
    "else:\n",
    "    print(\"Entered Value {} is Not divisible by 2\".format(h))"
   ]
  },
  {
   "cell_type": "code",
   "execution_count": 9,
   "metadata": {},
   "outputs": [
    {
     "name": "stdout",
     "output_type": "stream",
     "text": [
      "Enter a range value: 5\n",
      "0,1,2,3,4,"
     ]
    }
   ],
   "source": [
    "n = int(input(\"Enter a range value: \"))\n",
    "for b in range(n):\n",
    "    print(b,end=\",\")"
   ]
  },
  {
   "cell_type": "code",
   "execution_count": 10,
   "metadata": {},
   "outputs": [
    {
     "name": "stdout",
     "output_type": "stream",
     "text": [
      "Enter a Starting range value: 1\n",
      "Enter a Ending range value: 5\n",
      "1,2,3,4,"
     ]
    }
   ],
   "source": [
    "n = int(input(\"Enter a Starting range value: \"))\n",
    "m = int(input(\"Enter a Ending range value: \"))\n",
    "for b in range(n,m):\n",
    "    print(b,end=\",\")"
   ]
  },
  {
   "cell_type": "code",
   "execution_count": 11,
   "metadata": {},
   "outputs": [
    {
     "name": "stdout",
     "output_type": "stream",
     "text": [
      "Enter a Starting range value: 1\n",
      "Enter a Ending range value: 10\n",
      "Enter a Stepping Value: 2\n",
      "1,3,5,7,9,"
     ]
    }
   ],
   "source": [
    "n = int(input(\"Enter a Starting range value: \"))\n",
    "m = int(input(\"Enter a Ending range value: \"))\n",
    "s = int(input(\"Enter a Stepping Value: \"))\n",
    "for b in range(n,m,s):\n",
    "    print(b,end=\",\")"
   ]
  },
  {
   "cell_type": "code",
   "execution_count": 12,
   "metadata": {},
   "outputs": [
    {
     "name": "stdout",
     "output_type": "stream",
     "text": [
      "Enter a Starting range value: 22\n",
      "Enter a Ending range value: 36\n",
      "Enter a Stepping Value: 2\n",
      "36,34,32,30,28,26,24,"
     ]
    }
   ],
   "source": [
    "n = int(input(\"Enter a Starting range value: \"))\n",
    "m = int(input(\"Enter a Ending range value: \"))\n",
    "s = int(input(\"Enter a Stepping Value: \"))\n",
    "for b in range(m,n,-s):\n",
    "    print(b,end=\",\")"
   ]
  },
  {
   "cell_type": "code",
   "execution_count": 13,
   "metadata": {},
   "outputs": [
    {
     "name": "stdout",
     "output_type": "stream",
     "text": [
      "19\n",
      "31\n",
      "12 11 10 9 8 7 6 5 4 3 2 1 "
     ]
    }
   ],
   "source": [
    "p = int(input())\n",
    "k = int(input())\n",
    "for a in range(p,k):\n",
    "    print(k-a,end=\" \")"
   ]
  },
  {
   "cell_type": "code",
   "execution_count": null,
   "metadata": {},
   "outputs": [],
   "source": []
  }
 ],
 "metadata": {
  "kernelspec": {
   "display_name": "Python 3",
   "language": "python",
   "name": "python3"
  },
  "language_info": {
   "codemirror_mode": {
    "name": "ipython",
    "version": 3
   },
   "file_extension": ".py",
   "mimetype": "text/x-python",
   "name": "python",
   "nbconvert_exporter": "python",
   "pygments_lexer": "ipython3",
   "version": "3.8.3"
  }
 },
 "nbformat": 4,
 "nbformat_minor": 4
}
