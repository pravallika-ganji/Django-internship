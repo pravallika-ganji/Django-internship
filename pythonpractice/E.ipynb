{
 "cells": [
  {
   "cell_type": "code",
   "execution_count": 1,
   "metadata": {},
   "outputs": [
    {
     "name": "stdout",
     "output_type": "stream",
     "text": [
      "APSSDC Internship\n"
     ]
    }
   ],
   "source": [
    "n = \"APSSDC Internship\"\n",
    "print(n)"
   ]
  },
  {
   "cell_type": "code",
   "execution_count": 3,
   "metadata": {},
   "outputs": [
    {
     "name": "stdout",
     "output_type": "stream",
     "text": [
      "APSSDC Internship\n",
      "C\n",
      "h\n",
      "APSSDC Internship\n",
      "SDC Internship\n",
      "APSSDC Int\n",
      "C Inter\n",
      "terns\n",
      "e\n",
      "erns\n"
     ]
    }
   ],
   "source": [
    "print(n)\n",
    "print(n[5])\n",
    "print(n[-3])\n",
    "print(n[:])\n",
    "print(n[3:])\n",
    "print(n[:10])\n",
    "print(n[5:12])\n",
    "print(n[9:-3])\n",
    "print(n[-7:11])\n",
    "print(n[-7:-3])"
   ]
  },
  {
   "cell_type": "code",
   "execution_count": 4,
   "metadata": {},
   "outputs": [
    {
     "name": "stdout",
     "output_type": "stream",
     "text": [
      "APSSDC Internship\n",
      "APSSDC Internship\n",
      "ASD nenhp\n",
      "pseIDP\n",
      "Cnrh\n",
      "eIDP\n",
      " Int\n",
      "rns\n",
      "Inter\n",
      "Cn\n",
      "CIt\n"
     ]
    }
   ],
   "source": [
    "print(n)\n",
    "print(n[::])\n",
    "print(n[::2])\n",
    "print(n[::-3])\n",
    "print(n[5::3])\n",
    "print(n[10::-3])\n",
    "print(n[6:10:])\n",
    "print(n[-6:14:])\n",
    "print(n[-10:-5:])\n",
    "print(n[5:10:3])\n",
    "print(n[5:-7:2])"
   ]
  },
  {
   "cell_type": "code",
   "execution_count": 5,
   "metadata": {},
   "outputs": [
    {
     "name": "stdout",
     "output_type": "stream",
     "text": [
      "47348589359832758935982352376857 <class 'str'>\n",
      "75867325328953985723895398584374 <class 'int'>\n"
     ]
    }
   ],
   "source": [
    "m = str(47348589359832758935982352376857)\n",
    "print(m,type(m))\n",
    "k = int(m[::-1])\n",
    "print(k,type(k))"
   ]
  },
  {
   "cell_type": "code",
   "execution_count": 6,
   "metadata": {},
   "outputs": [
    {
     "name": "stdout",
     "output_type": "stream",
     "text": [
      "vasireddy venkatadri intitute of technology\n",
      "va sireddy venkatadri intitute of technolo gy\n"
     ]
    }
   ],
   "source": [
    "n = input()\n",
    "print(n[0:2]+\" \"+n[2:-2]+\" \"+n[-2:])"
   ]
  },
  {
   "cell_type": "code",
   "execution_count": 7,
   "metadata": {},
   "outputs": [
    {
     "name": "stdout",
     "output_type": "stream",
     "text": [
      "ms\n"
     ]
    }
   ],
   "source": [
    "m = \"APSSDC Programs\"\n",
    "print(m[-2:])"
   ]
  },
  {
   "cell_type": "code",
   "execution_count": 8,
   "metadata": {},
   "outputs": [
    {
     "name": "stdout",
     "output_type": "stream",
     "text": [
      "['__add__', '__class__', '__contains__', '__delattr__', '__dir__', '__doc__', '__eq__', '__format__', '__ge__', '__getattribute__', '__getitem__', '__getnewargs__', '__gt__', '__hash__', '__init__', '__init_subclass__', '__iter__', '__le__', '__len__', '__lt__', '__mod__', '__mul__', '__ne__', '__new__', '__reduce__', '__reduce_ex__', '__repr__', '__rmod__', '__rmul__', '__setattr__', '__sizeof__', '__str__', '__subclasshook__', 'capitalize', 'casefold', 'center', 'count', 'encode', 'endswith', 'expandtabs', 'find', 'format', 'format_map', 'index', 'isalnum', 'isalpha', 'isascii', 'isdecimal', 'isdigit', 'isidentifier', 'islower', 'isnumeric', 'isprintable', 'isspace', 'istitle', 'isupper', 'join', 'ljust', 'lower', 'lstrip', 'maketrans', 'partition', 'replace', 'rfind', 'rindex', 'rjust', 'rpartition', 'rsplit', 'rstrip', 'split', 'splitlines', 'startswith', 'strip', 'swapcase', 'title', 'translate', 'upper', 'zfill']\n"
     ]
    }
   ],
   "source": [
    "print(dir(str))"
   ]
  },
  {
   "cell_type": "code",
   "execution_count": 9,
   "metadata": {},
   "outputs": [
    {
     "name": "stdout",
     "output_type": "stream",
     "text": [
      "Welcome to APSSDC Programs\n",
      "Welcome to apssdc programs\n",
      "welcome to apssdc programs\n",
      "Welcome To Apssdc Programs\n",
      "wELCOME TO apssdc pROGRAMS\n"
     ]
    }
   ],
   "source": [
    "b = \"Welcome to APSSDC Programs\"\n",
    "print(b)\n",
    "print(b.capitalize())\n",
    "print(b.casefold())\n",
    "print(b.title())\n",
    "print(b.swapcase())"
   ]
  },
  {
   "cell_type": "code",
   "execution_count": 10,
   "metadata": {},
   "outputs": [
    {
     "name": "stdout",
     "output_type": "stream",
     "text": [
      "Welcome to APSSDC Programs\n",
      "WELCOME TO APSSDC PROGRAMS\n",
      "welcome to apssdc programs\n",
      "True\n",
      "True\n"
     ]
    }
   ],
   "source": [
    "print(b)\n",
    "print(b.upper())\n",
    "print(b.lower())\n",
    "print(b.startswith('W'))\n",
    "print(b.endswith('s'))"
   ]
  },
  {
   "cell_type": "code",
   "execution_count": 11,
   "metadata": {},
   "outputs": [
    {
     "name": "stdout",
     "output_type": "stream",
     "text": [
      "Welcome to APSSDC Programs\n",
      "['Welcome', 'to', 'APSSDC', 'Programs']\n",
      "['W', 'lcom', ' to APSSDC Programs']\n",
      "['Welco', 'e to APSSDC Progra', 's']\n",
      "2\n",
      "1\n",
      "-1\n",
      "6\n",
      "-1\n",
      "12\n",
      "18\n"
     ]
    }
   ],
   "source": [
    "print(b)\n",
    "print(b.split())\n",
    "print(b.split('e'))\n",
    "print(b.rsplit('m'))\n",
    "print(b.count('e'))\n",
    "print(b.find('e'))\n",
    "print(b.find('z'))\n",
    "print(b.rfind('e'))\n",
    "print(b.rfind('z'))\n",
    "print(b.index('P'))\n",
    "print(b.rindex('P'))"
   ]
  },
  {
   "cell_type": "code",
   "execution_count": 12,
   "metadata": {},
   "outputs": [
    {
     "name": "stdout",
     "output_type": "stream",
     "text": [
      "vgfgff gffbfggf fghffgf\n",
      "['vgfgff', 'gffbfggf', 'fghffgf']\n"
     ]
    }
   ],
   "source": [
    "n = input().split()\n",
    "print(n)"
   ]
  },
  {
   "cell_type": "code",
   "execution_count": 13,
   "metadata": {},
   "outputs": [
    {
     "name": "stdout",
     "output_type": "stream",
     "text": [
      "      Sample \n",
      "pravallika pinky        \n",
      "Sample\n",
      "pravallika pinky\n",
      "Sample \n",
      "pravallika pinky\n"
     ]
    }
   ],
   "source": [
    "d = \"      Sample \"\n",
    "e = \"pravallika pinky        \"\n",
    "print(d)\n",
    "print(e)\n",
    "print(d.strip())\n",
    "print(e.strip())\n",
    "print(d.lstrip())\n",
    "print(e.rstrip())"
   ]
  },
  {
   "cell_type": "code",
   "execution_count": 14,
   "metadata": {},
   "outputs": [
    {
     "name": "stdout",
     "output_type": "stream",
     "text": [
      "      Sample \n",
      "      Sample                                      \n",
      "pravallika pinky                                  \n",
      "                                                               Sample \n",
      "                                              pravallika pinky        \n",
      "0000000      Sample \n"
     ]
    }
   ],
   "source": [
    "print(d)\n",
    "print(d.ljust(50))\n",
    "print(e.ljust(50))\n",
    "print(d.rjust(70))\n",
    "print(e.rjust(70))\n",
    "print(d.zfill(20))"
   ]
  },
  {
   "cell_type": "code",
   "execution_count": 15,
   "metadata": {},
   "outputs": [
    {
     "name": "stdout",
     "output_type": "stream",
     "text": [
      "APSSDC\n",
      "apssdc\n",
      "APSSDC\n"
     ]
    }
   ],
   "source": [
    "z = \"APSSDC\"\n",
    "p = z.lower()\n",
    "f = z.upper()\n",
    "print(z)\n",
    "print(p)\n",
    "print(f)"
   ]
  },
  {
   "cell_type": "code",
   "execution_count": 16,
   "metadata": {},
   "outputs": [
    {
     "name": "stdout",
     "output_type": "stream",
     "text": [
      "APSSDC\n",
      "xPSSDC\n",
      "0000000      Sample \n",
      "AAAAAAA      Sample \n"
     ]
    }
   ],
   "source": [
    "print(z)\n",
    "print(z.replace('A','x'))\n",
    "g = d.zfill(20)\n",
    "print(g)\n",
    "print(g.replace('0','A'))"
   ]
  },
  {
   "cell_type": "code",
   "execution_count": 17,
   "metadata": {},
   "outputs": [
    {
     "name": "stdout",
     "output_type": "stream",
     "text": [
      "R a k e s h  \n",
      "Rakesh \n"
     ]
    }
   ],
   "source": [
    "k = \"Rakesh \"\n",
    "a = \" \".join(k)\n",
    "print(a)\n",
    "print(k)"
   ]
  },
  {
   "cell_type": "code",
   "execution_count": 18,
   "metadata": {},
   "outputs": [
    {
     "name": "stdout",
     "output_type": "stream",
     "text": [
      "34-45-786\n",
      "['34', '45', '786']\n"
     ]
    }
   ],
   "source": [
    "t = [\"34\",'45','786']\n",
    "g = \"-\".join(t)\n",
    "print(g)\n",
    "print(t)"
   ]
  },
  {
   "cell_type": "code",
   "execution_count": 21,
   "metadata": {},
   "outputs": [
    {
     "name": "stdout",
     "output_type": "stream",
     "text": [
      "19BQ1A0551-pravallika-VVIT 51\n",
      "pravallika 51\n"
     ]
    }
   ],
   "source": [
    "n = input().split(\"-\")\n",
    "p = n[2].split()\n",
    "print(n[1]+\" \"+p[1])"
   ]
  },
  {
   "cell_type": "code",
   "execution_count": 22,
   "metadata": {},
   "outputs": [
    {
     "name": "stdout",
     "output_type": "stream",
     "text": [
      "1 4 5 S Y f g & * $ # "
     ]
    }
   ],
   "source": [
    "k = '145SYfg&*$#'\n",
    "for i in k:\n",
    "    print(i,end=\" \")"
   ]
  },
  {
   "cell_type": "code",
   "execution_count": 23,
   "metadata": {},
   "outputs": [
    {
     "name": "stdout",
     "output_type": "stream",
     "text": [
      "False\n",
      "False\n"
     ]
    }
   ],
   "source": [
    "print(k.isalpha())\n",
    "print(k.isalnum())"
   ]
  },
  {
   "cell_type": "code",
   "execution_count": 24,
   "metadata": {},
   "outputs": [
    {
     "name": "stdout",
     "output_type": "stream",
     "text": [
      "True\n",
      "True\n"
     ]
    }
   ],
   "source": [
    "u = \"123SFgt\"\n",
    "i = \"AWEdrt\"\n",
    "print(u.isalnum())\n",
    "print(i.isalpha())"
   ]
  },
  {
   "cell_type": "code",
   "execution_count": null,
   "metadata": {},
   "outputs": [],
   "source": []
  }
 ],
 "metadata": {
  "kernelspec": {
   "display_name": "Python 3",
   "language": "python",
   "name": "python3"
  },
  "language_info": {
   "codemirror_mode": {
    "name": "ipython",
    "version": 3
   },
   "file_extension": ".py",
   "mimetype": "text/x-python",
   "name": "python",
   "nbconvert_exporter": "python",
   "pygments_lexer": "ipython3",
   "version": "3.8.3"
  }
 },
 "nbformat": 4,
 "nbformat_minor": 4
}
