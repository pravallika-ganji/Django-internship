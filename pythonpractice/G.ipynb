{
 "cells": [
  {
   "cell_type": "code",
   "execution_count": 1,
   "metadata": {},
   "outputs": [
    {
     "name": "stdout",
     "output_type": "stream",
     "text": [
      "24\n",
      "1 2 3 4 5 6 7 8 9 10 11 12 13 14 15 16 17 18 19 20 21 22 23 24 "
     ]
    }
   ],
   "source": [
    "def printnumbers(k):\n",
    "    j = []\n",
    "    for b in range(1,k+1):\n",
    "        j.append(b)\n",
    "    return j\n",
    "\n",
    "n = int(input())\n",
    "for z in range(1,len(printnumbers(n))+1):\n",
    "    print(z,end=\" \")"
   ]
  },
  {
   "cell_type": "code",
   "execution_count": 2,
   "metadata": {},
   "outputs": [
    {
     "name": "stdout",
     "output_type": "stream",
     "text": [
      "20\n",
      "2 4 6 8 10 12 14 16 18 20 "
     ]
    }
   ],
   "source": [
    "def evennumbers():\n",
    "    k,c = int(input()),[] \n",
    "    for b in range(1,k+1):\n",
    "        if b%2 == 0:\n",
    "            c.append(b)\n",
    "    return c\n",
    "\n",
    "for z in evennumbers():\n",
    "    print(z,end=\" \")"
   ]
  },
  {
   "cell_type": "code",
   "execution_count": 3,
   "metadata": {},
   "outputs": [
    {
     "name": "stdout",
     "output_type": "stream",
     "text": [
      "15\n",
      "1 3 5 7 9 11 13 15 "
     ]
    }
   ],
   "source": [
    "def oddnumbers(m):\n",
    "    for i in range(1,m+1):\n",
    "        if i%2!=0:\n",
    "            print(i,end=\" \")\n",
    "    return \n",
    "\n",
    "b = int(input())\n",
    "oddnumbers(b)"
   ]
  },
  {
   "cell_type": "code",
   "execution_count": 4,
   "metadata": {},
   "outputs": [
    {
     "name": "stdout",
     "output_type": "stream",
     "text": [
      "10\n",
      "20\n",
      "2\n",
      "10 12 14 16 18 "
     ]
    }
   ],
   "source": [
    "def skippingvalues():\n",
    "    n = int(input())\n",
    "    m = int(input())\n",
    "    s = int(input())\n",
    "    for j in range(n,m,s):\n",
    "        print(j,end=\" \")\n",
    "    return \n",
    "\n",
    "skippingvalues()"
   ]
  },
  {
   "cell_type": "code",
   "execution_count": 7,
   "metadata": {},
   "outputs": [
    {
     "name": "stdout",
     "output_type": "stream",
     "text": [
      "457996548895\n",
      "Given number is:  457996548895\n",
      "Even numbers are:  4 6 4 8 8 \n",
      "Odd numbers are:  5 7 9 9 5 9 5 \n",
      "Left half of even number are:  4 6 \n",
      "Right half of even number are:  4 8 8 \n"
     ]
    }
   ],
   "source": [
    "def fun(n):\n",
    "    e=''\n",
    "    o=''\n",
    "    s = n\n",
    "    for i in s:\n",
    "        if(int(i)%2==0):\n",
    "            e+=i+' '\n",
    "        else:\n",
    "            o+=i+' '\n",
    "    return (o,e)\n",
    "n=int(input())\n",
    "o,e = fun(str(n))\n",
    "l=len(str(n))\n",
    "o1,e1=fun(str(n)[0:int(l/2)])\n",
    "o2,e2=fun(str(n)[-int(l/2):-1])\n",
    "print(\"Given number is: \",n)\n",
    "print(\"Even numbers are: \",e)\n",
    "print(\"Odd numbers are: \",o)\n",
    "print(\"Left half of even number are: \",e1)\n",
    "print(\"Right half of even number are: \",e2)"
   ]
  },
  {
   "cell_type": "code",
   "execution_count": 8,
   "metadata": {},
   "outputs": [
    {
     "name": "stdout",
     "output_type": "stream",
     "text": [
      "Enter a name: vinni\n",
      "Enter an age: 44\n"
     ]
    },
    {
     "ename": "TypeError",
     "evalue": "student() missing 1 required positional argument: 'p'",
     "output_type": "error",
     "traceback": [
      "\u001b[1;31m---------------------------------------------------------------------------\u001b[0m",
      "\u001b[1;31mTypeError\u001b[0m                                 Traceback (most recent call last)",
      "\u001b[1;32m<ipython-input-8-a1944dfbbb64>\u001b[0m in \u001b[0;36m<module>\u001b[1;34m\u001b[0m\n\u001b[0;32m      5\u001b[0m \u001b[0mname\u001b[0m \u001b[1;33m=\u001b[0m \u001b[0minput\u001b[0m\u001b[1;33m(\u001b[0m\u001b[1;34m\"Enter a name: \"\u001b[0m\u001b[1;33m)\u001b[0m\u001b[1;33m\u001b[0m\u001b[1;33m\u001b[0m\u001b[0m\n\u001b[0;32m      6\u001b[0m \u001b[0mage\u001b[0m \u001b[1;33m=\u001b[0m \u001b[0mint\u001b[0m\u001b[1;33m(\u001b[0m\u001b[0minput\u001b[0m\u001b[1;33m(\u001b[0m\u001b[1;34m\"Enter an age: \"\u001b[0m\u001b[1;33m)\u001b[0m\u001b[1;33m)\u001b[0m\u001b[1;33m\u001b[0m\u001b[1;33m\u001b[0m\u001b[0m\n\u001b[1;32m----> 7\u001b[1;33m \u001b[0mstudent\u001b[0m\u001b[1;33m(\u001b[0m\u001b[0mname\u001b[0m\u001b[1;33m,\u001b[0m\u001b[0mage\u001b[0m\u001b[1;33m)\u001b[0m\u001b[1;33m\u001b[0m\u001b[1;33m\u001b[0m\u001b[0m\n\u001b[0m",
      "\u001b[1;31mTypeError\u001b[0m: student() missing 1 required positional argument: 'p'"
     ]
    }
   ],
   "source": [
    "def student(n,a,p):\n",
    "    print(\"Your Name is: {}\\nYour age is: {}\".format(n,a,p))\n",
    "    return \n",
    "\n",
    "name = input(\"Enter a name: \")\n",
    "age = int(input(\"Enter an age: \"))\n",
    "student(name,age)"
   ]
  },
  {
   "cell_type": "code",
   "execution_count": 9,
   "metadata": {},
   "outputs": [
    {
     "name": "stdout",
     "output_type": "stream",
     "text": [
      "Enter Your Collegename: vvit\n",
      "Enter Your Year: 2019\n",
      "Your collegename is: vvit\n",
      "Your Year is: 2019\n"
     ]
    }
   ],
   "source": [
    "def college(y,c):\n",
    "    print(\"Your collegename is: {}\\nYour Year is: {}\".format(c,y))\n",
    "    return\n",
    "college(c=input(\"Enter Your Collegename: \"),y=int(input(\"Enter Your Year: \")))"
   ]
  },
  {
   "cell_type": "code",
   "execution_count": 10,
   "metadata": {},
   "outputs": [
    {
     "name": "stdout",
     "output_type": "stream",
     "text": [
      "4\n",
      "56\n",
      "4\n",
      "4 <class 'int'>\n",
      "('56', '4') <class 'tuple'>\n",
      "60\n"
     ]
    }
   ],
   "source": [
    "def number(y,*p):\n",
    "    print(y,type(y))\n",
    "    print(p,type(p))\n",
    "    b = []\n",
    "    for i in p:\n",
    "        b.append(int(i))\n",
    "    print(sum(b))\n",
    "    return\n",
    "\n",
    "b = int(input())\n",
    "k = input()\n",
    "g = input()\n",
    "number(b,k,g)"
   ]
  },
  {
   "cell_type": "code",
   "execution_count": 11,
   "metadata": {},
   "outputs": [
    {
     "name": "stdout",
     "output_type": "stream",
     "text": [
      "pravallika\n",
      "1234567889\n",
      "19\n",
      "1500000\n",
      "{'pravallika': (1234567889, 19, 1500000)}\n"
     ]
    }
   ],
   "source": [
    "c = {}\n",
    "def contact(name,*t):\n",
    "    c[name] = t\n",
    "    return c\n",
    "\n",
    "name = input()\n",
    "mobile = int(input())\n",
    "age = int(input())\n",
    "sal = int(input())\n",
    "contact(name,mobile,age,sal)\n",
    "print(c)"
   ]
  },
  {
   "cell_type": "code",
   "execution_count": null,
   "metadata": {},
   "outputs": [],
   "source": []
  }
 ],
 "metadata": {
  "kernelspec": {
   "display_name": "Python 3",
   "language": "python",
   "name": "python3"
  },
  "language_info": {
   "codemirror_mode": {
    "name": "ipython",
    "version": 3
   },
   "file_extension": ".py",
   "mimetype": "text/x-python",
   "name": "python",
   "nbconvert_exporter": "python",
   "pygments_lexer": "ipython3",
   "version": "3.8.3"
  }
 },
 "nbformat": 4,
 "nbformat_minor": 4
}
