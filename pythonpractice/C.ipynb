{
 "cells": [
  {
   "cell_type": "code",
   "execution_count": 2,
   "metadata": {},
   "outputs": [
    {
     "name": "stdout",
     "output_type": "stream",
     "text": [
      "5\n",
      "19AK1A0500\n",
      "19AK1A0501\n",
      "19AK1A0502\n",
      "19AK1A0503\n",
      "19AK1A0504\n"
     ]
    }
   ],
   "source": [
    "n = int(input())\n",
    "for j in range(n):\n",
    "    print(\"19AK1A05{:02}\".format(j))"
   ]
  },
  {
   "cell_type": "code",
   "execution_count": 1,
   "metadata": {},
   "outputs": [
    {
     "name": "stdout",
     "output_type": "stream",
     "text": [
      "20\n",
      "20 19 18 17 16 15 14 13 12 11 "
     ]
    }
   ],
   "source": [
    "n = int(input())\n",
    "while n!=10:\n",
    "    print(n,end=\" \")\n",
    "    n = n-1"
   ]
  },
  {
   "cell_type": "code",
   "execution_count": 2,
   "metadata": {},
   "outputs": [
    {
     "name": "stdout",
     "output_type": "stream",
     "text": [
      "20\n",
      "1 2 3 4 5 6 7 8 9 10 11 12 13 14 15 16 17 18 19 "
     ]
    }
   ],
   "source": [
    "m = int(input())\n",
    "i = 1\n",
    "while m!=i:\n",
    "    print(i,end=\" \")\n",
    "    i = i+1"
   ]
  },
  {
   "cell_type": "code",
   "execution_count": 4,
   "metadata": {},
   "outputs": [
    {
     "name": "stdout",
     "output_type": "stream",
     "text": [
      "121\n",
      "Given number is: 121\n",
      "Reverse of a number is: 121\n",
      "Given number is 121 and its reverse is: 121\n"
     ]
    }
   ],
   "source": [
    "n = int(input())\n",
    "r = 0\n",
    "p = n\n",
    "while n!=0:\n",
    "    r = r*10+n%10\n",
    "    n //=10\n",
    "print(\"Given number is: {}\\nReverse of a number is: {}\\n\"\n",
    "\"Given number is {} and its reverse is: {}\".format(p,r,p,r))"
   ]
  },
  {
   "cell_type": "code",
   "execution_count": 5,
   "metadata": {},
   "outputs": [
    {
     "name": "stdout",
     "output_type": "stream",
     "text": [
      "6\n",
      "0,1,2,3,4,5,6,"
     ]
    }
   ],
   "source": [
    "n = int(input())\n",
    "for k in range(n+1):\n",
    "    print(k,end=\",\")"
   ]
  },
  {
   "cell_type": "code",
   "execution_count": 6,
   "metadata": {},
   "outputs": [
    {
     "name": "stdout",
     "output_type": "stream",
     "text": [
      "9\n",
      "0 1 2 3 4 \n",
      " 5\n"
     ]
    }
   ],
   "source": [
    "n = int(input())\n",
    "for h in range(n):\n",
    "    if h == 5:\n",
    "        break\n",
    "    else:\n",
    "        print(h,end=\" \")\n",
    "print(\"\\n\",h)"
   ]
  },
  {
   "cell_type": "code",
   "execution_count": 7,
   "metadata": {},
   "outputs": [
    {
     "name": "stdout",
     "output_type": "stream",
     "text": [
      "8\n",
      "0 1 2 3 4 6 7 \n",
      " 7\n"
     ]
    }
   ],
   "source": [
    "n = int(input())\n",
    "for h in range(n):\n",
    "    if h == 5:\n",
    "        continue\n",
    "    else:\n",
    "        print(h,end=\" \")\n",
    "print(\"\\n\",h)"
   ]
  },
  {
   "cell_type": "code",
   "execution_count": 8,
   "metadata": {},
   "outputs": [
    {
     "name": "stdout",
     "output_type": "stream",
     "text": [
      "h\n",
      "pass executed\n",
      "e\n",
      "l\n",
      "l\n",
      "o\n",
      "----\n",
      "h\n",
      "continue executed\n",
      "l\n",
      "l\n",
      "o\n"
     ]
    }
   ],
   "source": [
    "for i in 'hello':\n",
    "    if(i == 'e'):\n",
    "        print('pass executed')\n",
    "        pass\n",
    "    print(i)\n",
    "\n",
    "print('----')\n",
    "\n",
    "for i in 'hello':\n",
    "    if(i == 'e'):\n",
    "        print('continue executed')\n",
    "        continue\n",
    "    print(i)"
   ]
  },
  {
   "cell_type": "code",
   "execution_count": 9,
   "metadata": {},
   "outputs": [
    {
     "name": "stdout",
     "output_type": "stream",
     "text": [
      "[] ** || ** ## ** [] \n",
      "&& && && && && && && \n",
      "## ** || ** [] ## () \n",
      "** [] || ## ** () ** \n",
      "[] ## || \n"
     ]
    }
   ],
   "source": [
    "a = 1\n",
    "for i in range(1,6):\n",
    "    for j in range(1,8):\n",
    "        if i == 2:\n",
    "            print(\"&&\",end=\" \")\n",
    "        elif j == 3:\n",
    "            print(\"||\",end=\" \")\n",
    "        elif a <= 31:\n",
    "            if a%5==0:\n",
    "                print(\"##\",end=\" \")\n",
    "            elif a%2==0:\n",
    "                print(\"**\",end=\" \")\n",
    "            elif a%3==0:\n",
    "                print(\"()\",end=\" \")\n",
    "            else:\n",
    "                print(\"[]\",end=\" \")\n",
    "        else:\n",
    "            break\n",
    "        a+=1\n",
    "    print(end=\"\\n\")"
   ]
  },
  {
   "cell_type": "code",
   "execution_count": null,
   "metadata": {},
   "outputs": [],
   "source": []
  }
 ],
 "metadata": {
  "kernelspec": {
   "display_name": "Python 3",
   "language": "python",
   "name": "python3"
  },
  "language_info": {
   "codemirror_mode": {
    "name": "ipython",
    "version": 3
   },
   "file_extension": ".py",
   "mimetype": "text/x-python",
   "name": "python",
   "nbconvert_exporter": "python",
   "pygments_lexer": "ipython3",
   "version": "3.8.3"
  }
 },
 "nbformat": 4,
 "nbformat_minor": 4
}
